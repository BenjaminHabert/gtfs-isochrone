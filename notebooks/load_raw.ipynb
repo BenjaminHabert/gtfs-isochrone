{
 "cells": [
  {
   "cell_type": "code",
   "execution_count": 1,
   "metadata": {},
   "outputs": [],
   "source": [
    "%load_ext autoreload\n",
    "%autoreload 2"
   ]
  },
  {
   "cell_type": "code",
   "execution_count": 7,
   "metadata": {},
   "outputs": [],
   "source": [
    "import pandas as pd\n",
    "import numpy as np\n",
    "\n",
    "import gtfs_isochrone\n",
    "from gtfs_isochrone import prepare"
   ]
  },
  {
   "cell_type": "code",
   "execution_count": 8,
   "metadata": {},
   "outputs": [
    {
     "data": {
      "text/html": [
       "<div>\n",
       "<style scoped>\n",
       "    .dataframe tbody tr th:only-of-type {\n",
       "        vertical-align: middle;\n",
       "    }\n",
       "\n",
       "    .dataframe tbody tr th {\n",
       "        vertical-align: top;\n",
       "    }\n",
       "\n",
       "    .dataframe thead th {\n",
       "        text-align: right;\n",
       "    }\n",
       "</style>\n",
       "<table border=\"1\" class=\"dataframe\">\n",
       "  <thead>\n",
       "    <tr style=\"text-align: right;\">\n",
       "      <th></th>\n",
       "      <th>stop_id_from</th>\n",
       "      <th>stop_id_to</th>\n",
       "      <th>walk_duration</th>\n",
       "    </tr>\n",
       "  </thead>\n",
       "  <tbody>\n",
       "    <tr>\n",
       "      <th>1</th>\n",
       "      <td>ORLEANS:StopArea:00000621</td>\n",
       "      <td>ORLEANS:StopArea:00000622</td>\n",
       "      <td>00:02:00</td>\n",
       "    </tr>\n",
       "    <tr>\n",
       "      <th>2</th>\n",
       "      <td>ORLEANS:StopArea:00000621</td>\n",
       "      <td>ORLEANS:StopArea:00021601</td>\n",
       "      <td>00:55:32</td>\n",
       "    </tr>\n",
       "    <tr>\n",
       "      <th>3</th>\n",
       "      <td>ORLEANS:StopArea:00000621</td>\n",
       "      <td>ORLEANS:StopArea:00021602</td>\n",
       "      <td>00:55:07</td>\n",
       "    </tr>\n",
       "    <tr>\n",
       "      <th>4</th>\n",
       "      <td>ORLEANS:StopArea:00000621</td>\n",
       "      <td>ORLEANS:StopArea:00023850</td>\n",
       "      <td>00:04:24</td>\n",
       "    </tr>\n",
       "    <tr>\n",
       "      <th>5</th>\n",
       "      <td>ORLEANS:StopArea:00000621</td>\n",
       "      <td>ORLEANS:StopArea:00023851</td>\n",
       "      <td>00:04:14</td>\n",
       "    </tr>\n",
       "  </tbody>\n",
       "</table>\n",
       "</div>"
      ],
      "text/plain": [
       "                stop_id_from                 stop_id_to walk_duration\n",
       "1  ORLEANS:StopArea:00000621  ORLEANS:StopArea:00000622      00:02:00\n",
       "2  ORLEANS:StopArea:00000621  ORLEANS:StopArea:00021601      00:55:32\n",
       "3  ORLEANS:StopArea:00000621  ORLEANS:StopArea:00021602      00:55:07\n",
       "4  ORLEANS:StopArea:00000621  ORLEANS:StopArea:00023850      00:04:24\n",
       "5  ORLEANS:StopArea:00000621  ORLEANS:StopArea:00023851      00:04:14"
      ]
     },
     "execution_count": 8,
     "metadata": {},
     "output_type": "execute_result"
    }
   ],
   "source": [
    "gtfs_folder = '../data/orleans/'\n",
    "\n",
    "gtfs_isochrone.prepare.prepare_data_in_gtfs_folder(gtfs_folder)\n",
    "gtfs_isochrone.load.load_prepared_data(gtfs_folder).head()"
   ]
  },
  {
   "cell_type": "code",
   "execution_count": null,
   "metadata": {},
   "outputs": [],
   "source": []
  }
 ],
 "metadata": {
  "kernelspec": {
   "display_name": "Python 3",
   "language": "python",
   "name": "python3"
  },
  "language_info": {
   "codemirror_mode": {
    "name": "ipython",
    "version": 3
   },
   "file_extension": ".py",
   "mimetype": "text/x-python",
   "name": "python",
   "nbconvert_exporter": "python",
   "pygments_lexer": "ipython3",
   "version": "3.8.1"
  }
 },
 "nbformat": 4,
 "nbformat_minor": 4
}
