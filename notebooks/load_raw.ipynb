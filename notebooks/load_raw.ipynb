{
 "cells": [
  {
   "cell_type": "code",
   "execution_count": 1,
   "metadata": {},
   "outputs": [],
   "source": [
    "%load_ext autoreload\n",
    "%autoreload 2"
   ]
  },
  {
   "cell_type": "code",
   "execution_count": 2,
   "metadata": {},
   "outputs": [],
   "source": [
    "import pandas as pd\n",
    "import numpy as np\n",
    "\n",
    "import gtfs_isochrone\n",
    "from gtfs_isochrone import prepare"
   ]
  },
  {
   "cell_type": "code",
   "execution_count": 3,
   "metadata": {},
   "outputs": [],
   "source": [
    "gtfs_folder = '../data/orleans/'\n"
   ]
  },
  {
   "cell_type": "code",
   "execution_count": 4,
   "metadata": {},
   "outputs": [
    {
     "name": "stdout",
     "output_type": "stream",
     "text": [
      "                     stop_id   stop_lat  stop_lon\n",
      "0  ORLEANS:StopArea:00000621  47.950527  1.869791\n",
      "1  ORLEANS:StopArea:00000622  47.950558  1.867540\n",
      "2  ORLEANS:StopArea:00021601  47.919163  1.911375\n",
      "3  ORLEANS:StopArea:00021602  47.919495  1.911215\n",
      "4  ORLEANS:StopArea:00023850  47.950638  1.864836\n",
      "stop_id      object\n",
      "stop_lat    float64\n",
      "stop_lon    float64\n",
      "dtype: object\n",
      "                stop_id_from                 stop_id_to walk_duration\n",
      "1  ORLEANS:StopArea:00000621  ORLEANS:StopArea:00000622      00:02:00\n",
      "2  ORLEANS:StopArea:00000621  ORLEANS:StopArea:00021601      00:55:32\n",
      "3  ORLEANS:StopArea:00000621  ORLEANS:StopArea:00021602      00:55:07\n",
      "4  ORLEANS:StopArea:00000621  ORLEANS:StopArea:00023850      00:04:24\n",
      "5  ORLEANS:StopArea:00000621  ORLEANS:StopArea:00023851      00:04:14\n",
      "stop_id_from              object\n",
      "stop_id_to                object\n",
      "walk_duration    timedelta64[ns]\n",
      "dtype: object\n",
      "                                          trip_id       date\n",
      "0  ORLEANS:VehicleJourney:11_A_90_4_1157_1_055001 2020-06-29\n",
      "1  ORLEANS:VehicleJourney:11_A_90_4_1157_1_072000 2020-06-29\n",
      "2  ORLEANS:VehicleJourney:11_A_90_4_1157_1_085000 2020-06-29\n",
      "3  ORLEANS:VehicleJourney:11_A_90_4_1157_1_102000 2020-06-29\n",
      "4  ORLEANS:VehicleJourney:11_A_90_4_1157_1_115000 2020-06-29\n",
      "trip_id            object\n",
      "date       datetime64[ns]\n",
      "dtype: object\n",
      "                                         trip_id                    stop_id  \\\n",
      "0  ORLEANS:VehicleJourney:O_A_38_16_O01_5_085001  ORLEANS:StopArea:06001506   \n",
      "1   ORLEANS:VehicleJourney:O_A_38_7_O02_3_090001  ORLEANS:StopArea:00033427   \n",
      "2  ORLEANS:VehicleJourney:L_A_71_10_L03_3_185000  ORLEANS:StopArea:00041901   \n",
      "3  ORLEANS:VehicleJourney:L_A_71_10_L03_3_185000  ORLEANS:StopArea:00041920   \n",
      "4   ORLEANS:VehicleJourney:O_A_38_7_O02_3_090001  ORLEANS:StopArea:00032906   \n",
      "\n",
      "  arrival_time  \n",
      "0     08:55:00  \n",
      "1     09:02:00  \n",
      "2     18:52:00  \n",
      "3     18:54:00  \n",
      "4     09:04:00  \n",
      "trip_id                  object\n",
      "stop_id                  object\n",
      "arrival_time    timedelta64[ns]\n",
      "dtype: object\n"
     ]
    }
   ],
   "source": [
    "dfs = gtfs_isochrone.load.load_prepared_data(gtfs_folder)\n",
    "for df in dfs:\n",
    "    \n",
    "    print(df.head())\n",
    "    print(df.dtypes)"
   ]
  },
  {
   "cell_type": "code",
   "execution_count": null,
   "metadata": {},
   "outputs": [],
   "source": []
  }
 ],
 "metadata": {
  "kernelspec": {
   "display_name": "Python 3",
   "language": "python",
   "name": "python3"
  },
  "language_info": {
   "codemirror_mode": {
    "name": "ipython",
    "version": 3
   },
   "file_extension": ".py",
   "mimetype": "text/x-python",
   "name": "python",
   "nbconvert_exporter": "python",
   "pygments_lexer": "ipython3",
   "version": "3.8.1"
  }
 },
 "nbformat": 4,
 "nbformat_minor": 4
}
