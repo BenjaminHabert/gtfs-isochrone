{
 "cells": [
  {
   "cell_type": "code",
   "execution_count": 3,
   "metadata": {},
   "outputs": [],
   "source": [
    "import gtfs_isochrone\n",
    "import pandas as pd"
   ]
  },
  {
   "cell_type": "code",
   "execution_count": 4,
   "metadata": {},
   "outputs": [
    {
     "name": "stdout",
     "output_type": "stream",
     "text": [
      "/Users/benjamin/Desktop/gtfs-isochrone/notebooks\r\n"
     ]
    }
   ],
   "source": [
    "!pwd"
   ]
  },
  {
   "cell_type": "code",
   "execution_count": 5,
   "metadata": {},
   "outputs": [
    {
     "data": {
      "text/html": [
       "<div>\n",
       "<style scoped>\n",
       "    .dataframe tbody tr th:only-of-type {\n",
       "        vertical-align: middle;\n",
       "    }\n",
       "\n",
       "    .dataframe tbody tr th {\n",
       "        vertical-align: top;\n",
       "    }\n",
       "\n",
       "    .dataframe thead th {\n",
       "        text-align: right;\n",
       "    }\n",
       "</style>\n",
       "<table border=\"1\" class=\"dataframe\">\n",
       "  <thead>\n",
       "    <tr style=\"text-align: right;\">\n",
       "      <th></th>\n",
       "      <th>route_id</th>\n",
       "      <th>agency_id</th>\n",
       "      <th>route_short_name</th>\n",
       "      <th>route_long_name</th>\n",
       "      <th>route_type</th>\n",
       "      <th>route_color</th>\n",
       "      <th>route_text_color</th>\n",
       "    </tr>\n",
       "  </thead>\n",
       "  <tbody>\n",
       "    <tr>\n",
       "      <th>0</th>\n",
       "      <td>ORLEANS:Line:11</td>\n",
       "      <td>chouette:Company:aa859eaf-3621-4480-8424-349a7...</td>\n",
       "      <td>11</td>\n",
       "      <td>GARE ORLEANS - PARADIS</td>\n",
       "      <td>3</td>\n",
       "      <td>8BCAAE</td>\n",
       "      <td>000000</td>\n",
       "    </tr>\n",
       "    <tr>\n",
       "      <th>1</th>\n",
       "      <td>ORLEANS:Line:12</td>\n",
       "      <td>chouette:Company:aa859eaf-3621-4480-8424-349a7...</td>\n",
       "      <td>12</td>\n",
       "      <td>GARE AUBRAIS - GRAND BOULAND</td>\n",
       "      <td>3</td>\n",
       "      <td>DA89B9</td>\n",
       "      <td>000000</td>\n",
       "    </tr>\n",
       "    <tr>\n",
       "      <th>2</th>\n",
       "      <td>ORLEANS:Line:13</td>\n",
       "      <td>chouette:Company:aa859eaf-3621-4480-8424-349a7...</td>\n",
       "      <td>13</td>\n",
       "      <td>ST HILAIRE - L ORME</td>\n",
       "      <td>3</td>\n",
       "      <td>F29FC5</td>\n",
       "      <td>000000</td>\n",
       "    </tr>\n",
       "    <tr>\n",
       "      <th>3</th>\n",
       "      <td>ORLEANS:Line:15</td>\n",
       "      <td>chouette:Company:aa859eaf-3621-4480-8424-349a7...</td>\n",
       "      <td>15</td>\n",
       "      <td>BELLES RIVES - LA SABLONNIERE</td>\n",
       "      <td>3</td>\n",
       "      <td>FFD444</td>\n",
       "      <td>000000</td>\n",
       "    </tr>\n",
       "    <tr>\n",
       "      <th>4</th>\n",
       "      <td>ORLEANS:Line:16</td>\n",
       "      <td>chouette:Company:aa859eaf-3621-4480-8424-349a7...</td>\n",
       "      <td>16</td>\n",
       "      <td>CROIX AUX CHATS - VAL DE LOIRE</td>\n",
       "      <td>3</td>\n",
       "      <td>F39769</td>\n",
       "      <td>000000</td>\n",
       "    </tr>\n",
       "  </tbody>\n",
       "</table>\n",
       "</div>"
      ],
      "text/plain": [
       "          route_id                                          agency_id  \\\n",
       "0  ORLEANS:Line:11  chouette:Company:aa859eaf-3621-4480-8424-349a7...   \n",
       "1  ORLEANS:Line:12  chouette:Company:aa859eaf-3621-4480-8424-349a7...   \n",
       "2  ORLEANS:Line:13  chouette:Company:aa859eaf-3621-4480-8424-349a7...   \n",
       "3  ORLEANS:Line:15  chouette:Company:aa859eaf-3621-4480-8424-349a7...   \n",
       "4  ORLEANS:Line:16  chouette:Company:aa859eaf-3621-4480-8424-349a7...   \n",
       "\n",
       "  route_short_name                 route_long_name  route_type route_color  \\\n",
       "0               11          GARE ORLEANS - PARADIS           3      8BCAAE   \n",
       "1               12    GARE AUBRAIS - GRAND BOULAND           3      DA89B9   \n",
       "2               13             ST HILAIRE - L ORME           3      F29FC5   \n",
       "3               15   BELLES RIVES - LA SABLONNIERE           3      FFD444   \n",
       "4               16  CROIX AUX CHATS - VAL DE LOIRE           3      F39769   \n",
       "\n",
       "  route_text_color  \n",
       "0           000000  \n",
       "1           000000  \n",
       "2           000000  \n",
       "3           000000  \n",
       "4           000000  "
      ]
     },
     "execution_count": 5,
     "metadata": {},
     "output_type": "execute_result"
    }
   ],
   "source": [
    "data = '../data/orleans/'\n",
    "pd.read_csv(data + 'routes.txt').head()"
   ]
  },
  {
   "cell_type": "code",
   "execution_count": null,
   "metadata": {},
   "outputs": [],
   "source": []
  }
 ],
 "metadata": {
  "kernelspec": {
   "display_name": "Python 3",
   "language": "python",
   "name": "python3"
  },
  "language_info": {
   "codemirror_mode": {
    "name": "ipython",
    "version": 3
   },
   "file_extension": ".py",
   "mimetype": "text/x-python",
   "name": "python",
   "nbconvert_exporter": "python",
   "pygments_lexer": "ipython3",
   "version": "3.8.1"
  }
 },
 "nbformat": 4,
 "nbformat_minor": 4
}
